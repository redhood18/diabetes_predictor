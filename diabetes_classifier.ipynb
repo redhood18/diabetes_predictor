{
  "nbformat": 4,
  "nbformat_minor": 0,
  "metadata": {
    "colab": {
      "provenance": [],
      "gpuType": "T4",
      "mount_file_id": "1aYWfUDOZS9S-CzcYzbUm-6vmP-Gk1NjI",
      "authorship_tag": "ABX9TyMwE5IhxKsQkKoHVv1Jf4rp",
      "include_colab_link": true
    },
    "kernelspec": {
      "name": "python3",
      "display_name": "Python 3"
    },
    "language_info": {
      "name": "python"
    },
    "accelerator": "GPU"
  },
  "cells": [
    {
      "cell_type": "markdown",
      "metadata": {
        "id": "view-in-github",
        "colab_type": "text"
      },
      "source": [
        "<a href=\"https://colab.research.google.com/github/redhood18/diabetes_predictor/blob/main/diabetes_classifier.ipynb\" target=\"_parent\"><img src=\"https://colab.research.google.com/assets/colab-badge.svg\" alt=\"Open In Colab\"/></a>"
      ]
    },
    {
      "cell_type": "code",
      "execution_count": null,
      "metadata": {
        "id": "26LDZ0UCSK5Z",
        "colab": {
          "base_uri": "https://localhost:8080/"
        },
        "outputId": "2eded3ff-cd50-4cd8-9cfb-61c6124ef650"
      },
      "outputs": [
        {
          "output_type": "stream",
          "name": "stdout",
          "text": [
            "Collecting scikeras\n",
            "  Downloading scikeras-0.12.0-py3-none-any.whl (27 kB)\n",
            "Requirement already satisfied: packaging>=0.21 in /usr/local/lib/python3.10/dist-packages (from scikeras) (24.0)\n",
            "Requirement already satisfied: scikit-learn>=1.0.0 in /usr/local/lib/python3.10/dist-packages (from scikeras) (1.2.2)\n",
            "Requirement already satisfied: numpy>=1.17.3 in /usr/local/lib/python3.10/dist-packages (from scikit-learn>=1.0.0->scikeras) (1.25.2)\n",
            "Requirement already satisfied: scipy>=1.3.2 in /usr/local/lib/python3.10/dist-packages (from scikit-learn>=1.0.0->scikeras) (1.11.4)\n",
            "Requirement already satisfied: joblib>=1.1.1 in /usr/local/lib/python3.10/dist-packages (from scikit-learn>=1.0.0->scikeras) (1.3.2)\n",
            "Requirement already satisfied: threadpoolctl>=2.0.0 in /usr/local/lib/python3.10/dist-packages (from scikit-learn>=1.0.0->scikeras) (3.4.0)\n",
            "Installing collected packages: scikeras\n",
            "Successfully installed scikeras-0.12.0\n"
          ]
        }
      ],
      "source": [
        "!pip install scikeras"
      ]
    },
    {
      "cell_type": "code",
      "source": [
        "from google.colab import drive\n",
        "drive.mount('/content/drive')"
      ],
      "metadata": {
        "id": "dT-lsdwqWQoq",
        "colab": {
          "base_uri": "https://localhost:8080/"
        },
        "outputId": "5fdcbba5-5f80-4d01-be01-2a496530f1d5"
      },
      "execution_count": null,
      "outputs": [
        {
          "output_type": "stream",
          "name": "stdout",
          "text": [
            "Drive already mounted at /content/drive; to attempt to forcibly remount, call drive.mount(\"/content/drive\", force_remount=True).\n"
          ]
        }
      ]
    },
    {
      "cell_type": "code",
      "source": [
        "import tensorflow as tf\n",
        "import tensorflow_hub as hub\n",
        "import pandas as p\n",
        "import numpy as np\n",
        "import matplotlib.pyplot as plt"
      ],
      "metadata": {
        "id": "JxXG4YTj9gBh"
      },
      "execution_count": null,
      "outputs": []
    },
    {
      "cell_type": "code",
      "source": [
        "#data=p.DataFrame(temp_data,columns=['Unnamed:0','Age','Gender','BMI','Chol','TG','HDL','LDL','Cr','BUN','Diagnosis'])\n",
        "#data.head()\n"
      ],
      "metadata": {
        "id": "yvA8IahJ-PB8"
      },
      "execution_count": null,
      "outputs": []
    },
    {
      "cell_type": "code",
      "source": [
        "#shuffled_data=data.sample(frac=1)\n",
        "#shuffled_data[:20]"
      ],
      "metadata": {
        "id": "U9OPja2lAxfe"
      },
      "execution_count": null,
      "outputs": []
    },
    {
      "cell_type": "code",
      "source": [
        "#shuffled_data=shuffled_data.drop(\"Unnamed:0\",axis=1)\n",
        "#shuffled_data.head()"
      ],
      "metadata": {
        "id": "ULoQhHzZBAp9"
      },
      "execution_count": null,
      "outputs": []
    },
    {
      "cell_type": "code",
      "source": [
        "#shuffled_data.to_csv(\"drive/MyDrive/diabetes/shuffled_data.csv\")\n",
        "#new_data=p.read_csv(\"drive/MyDrive/diabetes/shuffled_data.csv\",index_col=0)\n",
        "#new_data.head()"
      ],
      "metadata": {
        "id": "6MZ8ISOSEkRn"
      },
      "execution_count": null,
      "outputs": []
    },
    {
      "cell_type": "code",
      "source": [
        "#new_data[:10]"
      ],
      "metadata": {
        "id": "caBgP2TmFVFy"
      },
      "execution_count": null,
      "outputs": []
    },
    {
      "cell_type": "code",
      "source": [
        "def plot_graph(data):\n",
        "  column_name=list(data.columns.values)\n",
        "  column_name=column_name[:9]\n",
        "  for i in (column_name):\n",
        "    plt.scatter(new_data[i],new_data['Diagnosis'])\n",
        "    plt.xlabel(i)\n",
        "    plt.ylabel(\"Diagnosis\")\n",
        "    plt.show()\n",
        "\n",
        "#plot_graph(new_data)"
      ],
      "metadata": {
        "id": "kirFLK-eQjPx"
      },
      "execution_count": null,
      "outputs": []
    },
    {
      "cell_type": "code",
      "source": [
        "#testing_dataset=new_data.sample(frac=0.2,random_state=200)\n",
        "#testing_dataset.head()\n",
        "#training_dataset=new_data.drop(testing_dataset.index)\n",
        "#training_dataset.head()\n",
        "#print(\"Size of testing dataset:\",testing_dataset.size)\n",
        "#print(\"Size of training dataset:\",training_dataset.size)\n",
        "#print(\"Size of original dataset:\",new_data.size)\n"
      ],
      "metadata": {
        "id": "mc6oonH4RRhO"
      },
      "execution_count": null,
      "outputs": []
    },
    {
      "cell_type": "code",
      "source": [
        "#testing_dataset.head()"
      ],
      "metadata": {
        "id": "N80cQQRUYrik"
      },
      "execution_count": null,
      "outputs": []
    },
    {
      "cell_type": "code",
      "source": [
        "#training_dataset.head()"
      ],
      "metadata": {
        "id": "62TlJlnJZB0v"
      },
      "execution_count": null,
      "outputs": []
    },
    {
      "cell_type": "code",
      "source": [
        "#training_dataset.to_csv(\"drive/MyDrive/diabetes/train.csv\")\n",
        "#testing_dataset.to_csv(\"drive/MyDrive/diabetes/test.csv\")"
      ],
      "metadata": {
        "id": "B_s8-gSkZEgt"
      },
      "execution_count": null,
      "outputs": []
    },
    {
      "cell_type": "code",
      "source": [
        "train_data=p.read_csv(\"drive/MyDrive/diabetes/train.csv\",index_col=0)\n",
        "train_data.head()"
      ],
      "metadata": {
        "colab": {
          "base_uri": "https://localhost:8080/",
          "height": 206
        },
        "id": "K69uLbzaZtHu",
        "outputId": "84de52d8-425d-43bb-cb7d-e14bd9509612"
      },
      "execution_count": null,
      "outputs": [
        {
          "output_type": "execute_result",
          "data": {
            "text/plain": [
              "      Age Gender  BMI  Chol    TG   HDL   LDL    Cr   BUN  Diagnosis\n",
              "593    51      M   27  6.00  1.10  1.40  1.30  41.0  3.30          1\n",
              "3942   66      F   30  4.14  1.14  1.71  2.19  48.6  6.43          1\n",
              "1560   37      F   23  4.07  1.19  1.09  2.33  43.1  6.10          0\n",
              "881    41      M   24  4.96  3.65  1.34  2.66  73.4  3.79          0\n",
              "1461   37      F   22  5.26  0.57  2.21  3.04  56.8  4.86          0"
            ],
            "text/html": [
              "\n",
              "  <div id=\"df-48b1e1ad-725b-49b8-ba3a-920f9f2bb779\" class=\"colab-df-container\">\n",
              "    <div>\n",
              "<style scoped>\n",
              "    .dataframe tbody tr th:only-of-type {\n",
              "        vertical-align: middle;\n",
              "    }\n",
              "\n",
              "    .dataframe tbody tr th {\n",
              "        vertical-align: top;\n",
              "    }\n",
              "\n",
              "    .dataframe thead th {\n",
              "        text-align: right;\n",
              "    }\n",
              "</style>\n",
              "<table border=\"1\" class=\"dataframe\">\n",
              "  <thead>\n",
              "    <tr style=\"text-align: right;\">\n",
              "      <th></th>\n",
              "      <th>Age</th>\n",
              "      <th>Gender</th>\n",
              "      <th>BMI</th>\n",
              "      <th>Chol</th>\n",
              "      <th>TG</th>\n",
              "      <th>HDL</th>\n",
              "      <th>LDL</th>\n",
              "      <th>Cr</th>\n",
              "      <th>BUN</th>\n",
              "      <th>Diagnosis</th>\n",
              "    </tr>\n",
              "  </thead>\n",
              "  <tbody>\n",
              "    <tr>\n",
              "      <th>593</th>\n",
              "      <td>51</td>\n",
              "      <td>M</td>\n",
              "      <td>27</td>\n",
              "      <td>6.00</td>\n",
              "      <td>1.10</td>\n",
              "      <td>1.40</td>\n",
              "      <td>1.30</td>\n",
              "      <td>41.0</td>\n",
              "      <td>3.30</td>\n",
              "      <td>1</td>\n",
              "    </tr>\n",
              "    <tr>\n",
              "      <th>3942</th>\n",
              "      <td>66</td>\n",
              "      <td>F</td>\n",
              "      <td>30</td>\n",
              "      <td>4.14</td>\n",
              "      <td>1.14</td>\n",
              "      <td>1.71</td>\n",
              "      <td>2.19</td>\n",
              "      <td>48.6</td>\n",
              "      <td>6.43</td>\n",
              "      <td>1</td>\n",
              "    </tr>\n",
              "    <tr>\n",
              "      <th>1560</th>\n",
              "      <td>37</td>\n",
              "      <td>F</td>\n",
              "      <td>23</td>\n",
              "      <td>4.07</td>\n",
              "      <td>1.19</td>\n",
              "      <td>1.09</td>\n",
              "      <td>2.33</td>\n",
              "      <td>43.1</td>\n",
              "      <td>6.10</td>\n",
              "      <td>0</td>\n",
              "    </tr>\n",
              "    <tr>\n",
              "      <th>881</th>\n",
              "      <td>41</td>\n",
              "      <td>M</td>\n",
              "      <td>24</td>\n",
              "      <td>4.96</td>\n",
              "      <td>3.65</td>\n",
              "      <td>1.34</td>\n",
              "      <td>2.66</td>\n",
              "      <td>73.4</td>\n",
              "      <td>3.79</td>\n",
              "      <td>0</td>\n",
              "    </tr>\n",
              "    <tr>\n",
              "      <th>1461</th>\n",
              "      <td>37</td>\n",
              "      <td>F</td>\n",
              "      <td>22</td>\n",
              "      <td>5.26</td>\n",
              "      <td>0.57</td>\n",
              "      <td>2.21</td>\n",
              "      <td>3.04</td>\n",
              "      <td>56.8</td>\n",
              "      <td>4.86</td>\n",
              "      <td>0</td>\n",
              "    </tr>\n",
              "  </tbody>\n",
              "</table>\n",
              "</div>\n",
              "    <div class=\"colab-df-buttons\">\n",
              "\n",
              "  <div class=\"colab-df-container\">\n",
              "    <button class=\"colab-df-convert\" onclick=\"convertToInteractive('df-48b1e1ad-725b-49b8-ba3a-920f9f2bb779')\"\n",
              "            title=\"Convert this dataframe to an interactive table.\"\n",
              "            style=\"display:none;\">\n",
              "\n",
              "  <svg xmlns=\"http://www.w3.org/2000/svg\" height=\"24px\" viewBox=\"0 -960 960 960\">\n",
              "    <path d=\"M120-120v-720h720v720H120Zm60-500h600v-160H180v160Zm220 220h160v-160H400v160Zm0 220h160v-160H400v160ZM180-400h160v-160H180v160Zm440 0h160v-160H620v160ZM180-180h160v-160H180v160Zm440 0h160v-160H620v160Z\"/>\n",
              "  </svg>\n",
              "    </button>\n",
              "\n",
              "  <style>\n",
              "    .colab-df-container {\n",
              "      display:flex;\n",
              "      gap: 12px;\n",
              "    }\n",
              "\n",
              "    .colab-df-convert {\n",
              "      background-color: #E8F0FE;\n",
              "      border: none;\n",
              "      border-radius: 50%;\n",
              "      cursor: pointer;\n",
              "      display: none;\n",
              "      fill: #1967D2;\n",
              "      height: 32px;\n",
              "      padding: 0 0 0 0;\n",
              "      width: 32px;\n",
              "    }\n",
              "\n",
              "    .colab-df-convert:hover {\n",
              "      background-color: #E2EBFA;\n",
              "      box-shadow: 0px 1px 2px rgba(60, 64, 67, 0.3), 0px 1px 3px 1px rgba(60, 64, 67, 0.15);\n",
              "      fill: #174EA6;\n",
              "    }\n",
              "\n",
              "    .colab-df-buttons div {\n",
              "      margin-bottom: 4px;\n",
              "    }\n",
              "\n",
              "    [theme=dark] .colab-df-convert {\n",
              "      background-color: #3B4455;\n",
              "      fill: #D2E3FC;\n",
              "    }\n",
              "\n",
              "    [theme=dark] .colab-df-convert:hover {\n",
              "      background-color: #434B5C;\n",
              "      box-shadow: 0px 1px 3px 1px rgba(0, 0, 0, 0.15);\n",
              "      filter: drop-shadow(0px 1px 2px rgba(0, 0, 0, 0.3));\n",
              "      fill: #FFFFFF;\n",
              "    }\n",
              "  </style>\n",
              "\n",
              "    <script>\n",
              "      const buttonEl =\n",
              "        document.querySelector('#df-48b1e1ad-725b-49b8-ba3a-920f9f2bb779 button.colab-df-convert');\n",
              "      buttonEl.style.display =\n",
              "        google.colab.kernel.accessAllowed ? 'block' : 'none';\n",
              "\n",
              "      async function convertToInteractive(key) {\n",
              "        const element = document.querySelector('#df-48b1e1ad-725b-49b8-ba3a-920f9f2bb779');\n",
              "        const dataTable =\n",
              "          await google.colab.kernel.invokeFunction('convertToInteractive',\n",
              "                                                    [key], {});\n",
              "        if (!dataTable) return;\n",
              "\n",
              "        const docLinkHtml = 'Like what you see? Visit the ' +\n",
              "          '<a target=\"_blank\" href=https://colab.research.google.com/notebooks/data_table.ipynb>data table notebook</a>'\n",
              "          + ' to learn more about interactive tables.';\n",
              "        element.innerHTML = '';\n",
              "        dataTable['output_type'] = 'display_data';\n",
              "        await google.colab.output.renderOutput(dataTable, element);\n",
              "        const docLink = document.createElement('div');\n",
              "        docLink.innerHTML = docLinkHtml;\n",
              "        element.appendChild(docLink);\n",
              "      }\n",
              "    </script>\n",
              "  </div>\n",
              "\n",
              "\n",
              "<div id=\"df-efd063ee-c72f-4d2c-80a9-d4bd85175782\">\n",
              "  <button class=\"colab-df-quickchart\" onclick=\"quickchart('df-efd063ee-c72f-4d2c-80a9-d4bd85175782')\"\n",
              "            title=\"Suggest charts\"\n",
              "            style=\"display:none;\">\n",
              "\n",
              "<svg xmlns=\"http://www.w3.org/2000/svg\" height=\"24px\"viewBox=\"0 0 24 24\"\n",
              "     width=\"24px\">\n",
              "    <g>\n",
              "        <path d=\"M19 3H5c-1.1 0-2 .9-2 2v14c0 1.1.9 2 2 2h14c1.1 0 2-.9 2-2V5c0-1.1-.9-2-2-2zM9 17H7v-7h2v7zm4 0h-2V7h2v10zm4 0h-2v-4h2v4z\"/>\n",
              "    </g>\n",
              "</svg>\n",
              "  </button>\n",
              "\n",
              "<style>\n",
              "  .colab-df-quickchart {\n",
              "      --bg-color: #E8F0FE;\n",
              "      --fill-color: #1967D2;\n",
              "      --hover-bg-color: #E2EBFA;\n",
              "      --hover-fill-color: #174EA6;\n",
              "      --disabled-fill-color: #AAA;\n",
              "      --disabled-bg-color: #DDD;\n",
              "  }\n",
              "\n",
              "  [theme=dark] .colab-df-quickchart {\n",
              "      --bg-color: #3B4455;\n",
              "      --fill-color: #D2E3FC;\n",
              "      --hover-bg-color: #434B5C;\n",
              "      --hover-fill-color: #FFFFFF;\n",
              "      --disabled-bg-color: #3B4455;\n",
              "      --disabled-fill-color: #666;\n",
              "  }\n",
              "\n",
              "  .colab-df-quickchart {\n",
              "    background-color: var(--bg-color);\n",
              "    border: none;\n",
              "    border-radius: 50%;\n",
              "    cursor: pointer;\n",
              "    display: none;\n",
              "    fill: var(--fill-color);\n",
              "    height: 32px;\n",
              "    padding: 0;\n",
              "    width: 32px;\n",
              "  }\n",
              "\n",
              "  .colab-df-quickchart:hover {\n",
              "    background-color: var(--hover-bg-color);\n",
              "    box-shadow: 0 1px 2px rgba(60, 64, 67, 0.3), 0 1px 3px 1px rgba(60, 64, 67, 0.15);\n",
              "    fill: var(--button-hover-fill-color);\n",
              "  }\n",
              "\n",
              "  .colab-df-quickchart-complete:disabled,\n",
              "  .colab-df-quickchart-complete:disabled:hover {\n",
              "    background-color: var(--disabled-bg-color);\n",
              "    fill: var(--disabled-fill-color);\n",
              "    box-shadow: none;\n",
              "  }\n",
              "\n",
              "  .colab-df-spinner {\n",
              "    border: 2px solid var(--fill-color);\n",
              "    border-color: transparent;\n",
              "    border-bottom-color: var(--fill-color);\n",
              "    animation:\n",
              "      spin 1s steps(1) infinite;\n",
              "  }\n",
              "\n",
              "  @keyframes spin {\n",
              "    0% {\n",
              "      border-color: transparent;\n",
              "      border-bottom-color: var(--fill-color);\n",
              "      border-left-color: var(--fill-color);\n",
              "    }\n",
              "    20% {\n",
              "      border-color: transparent;\n",
              "      border-left-color: var(--fill-color);\n",
              "      border-top-color: var(--fill-color);\n",
              "    }\n",
              "    30% {\n",
              "      border-color: transparent;\n",
              "      border-left-color: var(--fill-color);\n",
              "      border-top-color: var(--fill-color);\n",
              "      border-right-color: var(--fill-color);\n",
              "    }\n",
              "    40% {\n",
              "      border-color: transparent;\n",
              "      border-right-color: var(--fill-color);\n",
              "      border-top-color: var(--fill-color);\n",
              "    }\n",
              "    60% {\n",
              "      border-color: transparent;\n",
              "      border-right-color: var(--fill-color);\n",
              "    }\n",
              "    80% {\n",
              "      border-color: transparent;\n",
              "      border-right-color: var(--fill-color);\n",
              "      border-bottom-color: var(--fill-color);\n",
              "    }\n",
              "    90% {\n",
              "      border-color: transparent;\n",
              "      border-bottom-color: var(--fill-color);\n",
              "    }\n",
              "  }\n",
              "</style>\n",
              "\n",
              "  <script>\n",
              "    async function quickchart(key) {\n",
              "      const quickchartButtonEl =\n",
              "        document.querySelector('#' + key + ' button');\n",
              "      quickchartButtonEl.disabled = true;  // To prevent multiple clicks.\n",
              "      quickchartButtonEl.classList.add('colab-df-spinner');\n",
              "      try {\n",
              "        const charts = await google.colab.kernel.invokeFunction(\n",
              "            'suggestCharts', [key], {});\n",
              "      } catch (error) {\n",
              "        console.error('Error during call to suggestCharts:', error);\n",
              "      }\n",
              "      quickchartButtonEl.classList.remove('colab-df-spinner');\n",
              "      quickchartButtonEl.classList.add('colab-df-quickchart-complete');\n",
              "    }\n",
              "    (() => {\n",
              "      let quickchartButtonEl =\n",
              "        document.querySelector('#df-efd063ee-c72f-4d2c-80a9-d4bd85175782 button');\n",
              "      quickchartButtonEl.style.display =\n",
              "        google.colab.kernel.accessAllowed ? 'block' : 'none';\n",
              "    })();\n",
              "  </script>\n",
              "</div>\n",
              "\n",
              "    </div>\n",
              "  </div>\n"
            ],
            "application/vnd.google.colaboratory.intrinsic+json": {
              "type": "dataframe",
              "variable_name": "train_data",
              "summary": "{\n  \"name\": \"train_data\",\n  \"rows\": 4106,\n  \"fields\": [\n    {\n      \"column\": \"Age\",\n      \"properties\": {\n        \"dtype\": \"number\",\n        \"std\": 13,\n        \"min\": 20,\n        \"max\": 93,\n        \"num_unique_values\": 71,\n        \"samples\": [\n          39,\n          51,\n          57\n        ],\n        \"semantic_type\": \"\",\n        \"description\": \"\"\n      }\n    },\n    {\n      \"column\": \"Gender\",\n      \"properties\": {\n        \"dtype\": \"category\",\n        \"num_unique_values\": 3,\n        \"samples\": [\n          \"M\",\n          \"F\",\n          \"f\"\n        ],\n        \"semantic_type\": \"\",\n        \"description\": \"\"\n      }\n    },\n    {\n      \"column\": \"BMI\",\n      \"properties\": {\n        \"dtype\": \"number\",\n        \"std\": 4,\n        \"min\": 15,\n        \"max\": 47,\n        \"num_unique_values\": 29,\n        \"samples\": [\n          15,\n          28,\n          36\n        ],\n        \"semantic_type\": \"\",\n        \"description\": \"\"\n      }\n    },\n    {\n      \"column\": \"Chol\",\n      \"properties\": {\n        \"dtype\": \"number\",\n        \"std\": 0.9971340701203849,\n        \"min\": 0.0,\n        \"max\": 11.65,\n        \"num_unique_values\": 483,\n        \"samples\": [\n          8.98,\n          9.7,\n          4.09\n        ],\n        \"semantic_type\": \"\",\n        \"description\": \"\"\n      }\n    },\n    {\n      \"column\": \"TG\",\n      \"properties\": {\n        \"dtype\": \"number\",\n        \"std\": 1.348078079830947,\n        \"min\": 0.0,\n        \"max\": 32.64,\n        \"num_unique_values\": 462,\n        \"samples\": [\n          0.4,\n          1.46,\n          0.35\n        ],\n        \"semantic_type\": \"\",\n        \"description\": \"\"\n      }\n    },\n    {\n      \"column\": \"HDL\",\n      \"properties\": {\n        \"dtype\": \"number\",\n        \"std\": 1.0564514215522463,\n        \"min\": 0.0,\n        \"max\": 9.9,\n        \"num_unique_values\": 198,\n        \"samples\": [\n          1.44,\n          1.43,\n          1.6\n        ],\n        \"semantic_type\": \"\",\n        \"description\": \"\"\n      }\n    },\n    {\n      \"column\": \"LDL\",\n      \"properties\": {\n        \"dtype\": \"number\",\n        \"std\": 0.9432864728491344,\n        \"min\": 0.3,\n        \"max\": 7.9,\n        \"num_unique_values\": 386,\n        \"samples\": [\n          4.39,\n          1.21,\n          4.33\n        ],\n        \"semantic_type\": \"\",\n        \"description\": \"\"\n      }\n    },\n    {\n      \"column\": \"Cr\",\n      \"properties\": {\n        \"dtype\": \"number\",\n        \"std\": 28.750425361004808,\n        \"min\": 4.860753,\n        \"max\": 800.0,\n        \"num_unique_values\": 712,\n        \"samples\": [\n          80.6,\n          67.3,\n          99.8\n        ],\n        \"semantic_type\": \"\",\n        \"description\": \"\"\n      }\n    },\n    {\n      \"column\": \"BUN\",\n      \"properties\": {\n        \"dtype\": \"number\",\n        \"std\": 1.6750627096405883,\n        \"min\": 0.5,\n        \"max\": 38.9,\n        \"num_unique_values\": 588,\n        \"samples\": [\n          1.1,\n          6.82,\n          5.25\n        ],\n        \"semantic_type\": \"\",\n        \"description\": \"\"\n      }\n    },\n    {\n      \"column\": \"Diagnosis\",\n      \"properties\": {\n        \"dtype\": \"number\",\n        \"std\": 0,\n        \"min\": 0,\n        \"max\": 1,\n        \"num_unique_values\": 2,\n        \"samples\": [\n          0,\n          1\n        ],\n        \"semantic_type\": \"\",\n        \"description\": \"\"\n      }\n    }\n  ]\n}"
            }
          },
          "metadata": {},
          "execution_count": 38
        }
      ]
    },
    {
      "cell_type": "code",
      "source": [
        "train_data.size"
      ],
      "metadata": {
        "colab": {
          "base_uri": "https://localhost:8080/"
        },
        "id": "6LtJrM2NaGwa",
        "outputId": "b6807042-24f3-43ec-87b1-9e83496bb82a"
      },
      "execution_count": null,
      "outputs": [
        {
          "output_type": "execute_result",
          "data": {
            "text/plain": [
              "41060"
            ]
          },
          "metadata": {},
          "execution_count": 47
        }
      ]
    },
    {
      "cell_type": "code",
      "source": [
        "train_data[\"Diagnosis\"].value_counts()"
      ],
      "metadata": {
        "id": "dQgQeiG2aLUX",
        "colab": {
          "base_uri": "https://localhost:8080/"
        },
        "outputId": "ab1d499e-57c9-4f1c-f130-9fc4f35ed3ef"
      },
      "execution_count": null,
      "outputs": [
        {
          "output_type": "execute_result",
          "data": {
            "text/plain": [
              "0    2514\n",
              "1    1592\n",
              "Name: Diagnosis, dtype: int64"
            ]
          },
          "metadata": {},
          "execution_count": 48
        }
      ]
    },
    {
      "cell_type": "code",
      "source": [
        "train_data.isnull().sum()"
      ],
      "metadata": {
        "colab": {
          "base_uri": "https://localhost:8080/"
        },
        "id": "iZXZQF2VJiov",
        "outputId": "6347e32a-bd69-4160-d043-05b30b2c43a3"
      },
      "execution_count": null,
      "outputs": [
        {
          "output_type": "execute_result",
          "data": {
            "text/plain": [
              "Age          0\n",
              "Gender       0\n",
              "BMI          0\n",
              "Chol         0\n",
              "TG           0\n",
              "HDL          0\n",
              "LDL          0\n",
              "Cr           0\n",
              "BUN          0\n",
              "Diagnosis    0\n",
              "dtype: int64"
            ]
          },
          "metadata": {},
          "execution_count": 49
        }
      ]
    },
    {
      "cell_type": "code",
      "source": [
        "def converting_gender(train_data):\n",
        "  train_data.loc[train_data[\"Gender\"]==\"M\",\"Gender\"]=1\n",
        "  train_data.loc[train_data[\"Gender\"]==\"F\",\"Gender\"]=0\n",
        "  train_data.loc[train_data[\"Gender\"]==\"m\",\"Gender\"]=1\n",
        "  train_data.loc[train_data[\"Gender\"]==\"f\",\"Gender\"]=0\n",
        "  return train_data"
      ],
      "metadata": {
        "id": "lqeA_tPSJo7c"
      },
      "execution_count": null,
      "outputs": []
    },
    {
      "cell_type": "code",
      "source": [
        "input_data=train_data.drop(\"Diagnosis\",axis=1)\n",
        "x=input_data.copy()\n",
        "y=train_data[\"Diagnosis\"]\n",
        "x=converting_gender(x)"
      ],
      "metadata": {
        "id": "8SiXHzy-J8nx"
      },
      "execution_count": null,
      "outputs": []
    },
    {
      "cell_type": "code",
      "source": [
        "from sklearn.model_selection import train_test_split\n",
        "x_train, x_validation, y_train, y_validation = train_test_split(x, y, test_size=0.30, random_state=5)"
      ],
      "metadata": {
        "id": "NqJJ44fIcyMC"
      },
      "execution_count": null,
      "outputs": []
    },
    {
      "cell_type": "code",
      "source": [
        "x_train_normalized = (x_train - x_train.mean(axis=0)) / x_train.std(axis=0)\n",
        "x_val_normalized = (x_validation - x_train.mean(axis=0)) / x_train.std(axis=0)"
      ],
      "metadata": {
        "id": "cylyneSCOUhk"
      },
      "execution_count": null,
      "outputs": []
    },
    {
      "cell_type": "code",
      "source": [
        "tf.experimental.numpy.experimental_enable_numpy_behavior()\n",
        "x_train=tf.convert_to_tensor(x_train.astype(np.float32))\n",
        "x_validation=tf.convert_to_tensor(x_validation.astype(np.float32))\n",
        "y_train=tf.convert_to_tensor(y_train.astype(np.float32))\n",
        "y_validation=tf.convert_to_tensor(y_validation.astype(np.float32))"
      ],
      "metadata": {
        "id": "odnNn0_LOiUs"
      },
      "execution_count": null,
      "outputs": []
    },
    {
      "cell_type": "code",
      "source": [
        "x_train_normalized=tf.convert_to_tensor(x_train_normalized.astype(np.float32))\n",
        "x_val_normalized=tf.convert_to_tensor(x_val_normalized.astype(np.float32))\n",
        "y_train=tf.convert_to_tensor(y_train.astype(np.float32))\n",
        "y_validation=tf.convert_to_tensor(y_validation.astype(np.float32))\n"
      ],
      "metadata": {
        "id": "32CMmmzPRRpv"
      },
      "execution_count": null,
      "outputs": []
    },
    {
      "cell_type": "code",
      "source": [],
      "metadata": {
        "colab": {
          "base_uri": "https://localhost:8080/"
        },
        "id": "8eaBIp_nS6-A",
        "outputId": "1c313132-65aa-4888-cddf-8d7a9a12567d"
      },
      "execution_count": null,
      "outputs": [
        {
          "output_type": "execute_result",
          "data": {
            "text/plain": [
              "(<tf.Tensor: shape=(4106, 9), dtype=float32, numpy=\n",
              " array([[ 51.      ,   1.      ,  27.      , ...,   1.3     ,  41.      ,\n",
              "           3.3     ],\n",
              "        [ 66.      ,   0.      ,  30.      , ...,   2.19    ,  48.6     ,\n",
              "           6.43    ],\n",
              "        [ 37.      ,   0.      ,  23.      , ...,   2.33    ,  43.1     ,\n",
              "           6.1     ],\n",
              "        ...,\n",
              "        [ 63.      ,   1.      ,  23.      , ...,   3.09    ,  85.8     ,\n",
              "           3.56    ],\n",
              "        [ 61.      ,   1.      ,  22.      , ...,   3.05    , 105.9     ,\n",
              "           5.85    ],\n",
              "        [ 48.      ,   1.      ,  25.      , ...,   4.860753,  66.      ,\n",
              "           5.16    ]], dtype=float32)>,\n",
              " <tf.Tensor: shape=(4106,), dtype=float32, numpy=array([1., 1., 0., ..., 1., 1., 1.], dtype=float32)>)"
            ]
          },
          "metadata": {},
          "execution_count": 53
        }
      ]
    },
    {
      "cell_type": "code",
      "source": [
        "from sklearn.model_selection import GridSearchCV\n",
        "from scikeras.wrappers import KerasClassifier"
      ],
      "metadata": {
        "id": "Qm49TC7rW15k"
      },
      "execution_count": null,
      "outputs": []
    },
    {
      "cell_type": "code",
      "source": [
        "np.random.seed(42)\n",
        "model=tf.keras.Sequential([tf.keras.layers.Dense(10,activation=\"relu\"),tf.keras.layers.Dense(32,activation=\"relu\"),tf.keras.layers.Dense(26,activation=\"relu\"),tf.keras.layers.Dense(10,activation=\"relu\"),tf.keras.layers.Dense(1,activation=\"sigmoid\")])\n",
        "model.compile(loss=tf.keras.losses.BinaryCrossentropy(),optimizer=tf.keras.optimizers.Adam(learning_rate=0.001),metrics=[\"accuracy\"])\n",
        "early_stopping=tf.keras.callbacks.EarlyStopping(monitor=\"accuracy\",patience=10)\n",
        "model.fit(x_train, y_train, epochs=100, batch_size=32,validation_split=0.3,validation_data=(x_validation, y_validation))\n",
        "\n",
        "param_grid = {\n",
        "    'learning_rate': [0.001, 0.01, 0.1],\n",
        "    'dropout_rate': [0.2, 0.3, 0.4],\n",
        "    'neurons': [32, 64, 128],\n",
        "    'epochs': [50, 100],\n",
        "    'batch_size': [16, 32]\n",
        "}"
      ],
      "metadata": {
        "colab": {
          "base_uri": "https://localhost:8080/"
        },
        "id": "l3vmAQY6XKRR",
        "outputId": "57893c92-6bde-4a3b-cf32-0d6818f819c9"
      },
      "execution_count": null,
      "outputs": [
        {
          "output_type": "stream",
          "name": "stdout",
          "text": [
            "Epoch 1/100\n",
            "90/90 [==============================] - 4s 10ms/step - loss: 0.7216 - accuracy: 0.6889 - val_loss: 0.5621 - val_accuracy: 0.7110\n",
            "Epoch 2/100\n",
            "90/90 [==============================] - 1s 8ms/step - loss: 0.5602 - accuracy: 0.7237 - val_loss: 0.5384 - val_accuracy: 0.7208\n",
            "Epoch 3/100\n",
            "90/90 [==============================] - 0s 5ms/step - loss: 0.5226 - accuracy: 0.7359 - val_loss: 0.5321 - val_accuracy: 0.7248\n",
            "Epoch 4/100\n",
            "90/90 [==============================] - 0s 5ms/step - loss: 0.5121 - accuracy: 0.7394 - val_loss: 0.5485 - val_accuracy: 0.7062\n",
            "Epoch 5/100\n",
            "90/90 [==============================] - 1s 6ms/step - loss: 0.5141 - accuracy: 0.7429 - val_loss: 0.5437 - val_accuracy: 0.7248\n",
            "Epoch 6/100\n",
            "90/90 [==============================] - 1s 6ms/step - loss: 0.5019 - accuracy: 0.7512 - val_loss: 0.5090 - val_accuracy: 0.7573\n",
            "Epoch 7/100\n",
            "90/90 [==============================] - 0s 5ms/step - loss: 0.4926 - accuracy: 0.7596 - val_loss: 0.5123 - val_accuracy: 0.7646\n",
            "Epoch 8/100\n",
            "90/90 [==============================] - 1s 6ms/step - loss: 0.4804 - accuracy: 0.7721 - val_loss: 0.4955 - val_accuracy: 0.7597\n",
            "Epoch 9/100\n",
            "90/90 [==============================] - 1s 6ms/step - loss: 0.4831 - accuracy: 0.7679 - val_loss: 0.5107 - val_accuracy: 0.7419\n",
            "Epoch 10/100\n",
            "90/90 [==============================] - 1s 6ms/step - loss: 0.4655 - accuracy: 0.7756 - val_loss: 0.4839 - val_accuracy: 0.7670\n",
            "Epoch 11/100\n",
            "90/90 [==============================] - 0s 5ms/step - loss: 0.4574 - accuracy: 0.7867 - val_loss: 0.5134 - val_accuracy: 0.7386\n",
            "Epoch 12/100\n",
            "90/90 [==============================] - 0s 5ms/step - loss: 0.4503 - accuracy: 0.7867 - val_loss: 0.4621 - val_accuracy: 0.7679\n",
            "Epoch 13/100\n",
            "90/90 [==============================] - 0s 5ms/step - loss: 0.4509 - accuracy: 0.7832 - val_loss: 0.4596 - val_accuracy: 0.7906\n",
            "Epoch 14/100\n",
            "90/90 [==============================] - 0s 5ms/step - loss: 0.4558 - accuracy: 0.7818 - val_loss: 0.4570 - val_accuracy: 0.7873\n",
            "Epoch 15/100\n",
            "90/90 [==============================] - 1s 6ms/step - loss: 0.4370 - accuracy: 0.7923 - val_loss: 0.4514 - val_accuracy: 0.7687\n",
            "Epoch 16/100\n",
            "90/90 [==============================] - 0s 5ms/step - loss: 0.4370 - accuracy: 0.7954 - val_loss: 0.4561 - val_accuracy: 0.7670\n",
            "Epoch 17/100\n",
            "90/90 [==============================] - 1s 6ms/step - loss: 0.4341 - accuracy: 0.7930 - val_loss: 0.4504 - val_accuracy: 0.7792\n",
            "Epoch 18/100\n",
            "90/90 [==============================] - 1s 6ms/step - loss: 0.4344 - accuracy: 0.7898 - val_loss: 0.4660 - val_accuracy: 0.7735\n",
            "Epoch 19/100\n",
            "90/90 [==============================] - 1s 6ms/step - loss: 0.4197 - accuracy: 0.8003 - val_loss: 0.4541 - val_accuracy: 0.7679\n",
            "Epoch 20/100\n",
            "90/90 [==============================] - 1s 6ms/step - loss: 0.4195 - accuracy: 0.7971 - val_loss: 0.4800 - val_accuracy: 0.7654\n",
            "Epoch 21/100\n",
            "90/90 [==============================] - 0s 5ms/step - loss: 0.4160 - accuracy: 0.8020 - val_loss: 0.4804 - val_accuracy: 0.7565\n",
            "Epoch 22/100\n",
            "90/90 [==============================] - 1s 6ms/step - loss: 0.4079 - accuracy: 0.8058 - val_loss: 0.4319 - val_accuracy: 0.7898\n",
            "Epoch 23/100\n",
            "90/90 [==============================] - 1s 8ms/step - loss: 0.4069 - accuracy: 0.8104 - val_loss: 0.4379 - val_accuracy: 0.7955\n",
            "Epoch 24/100\n",
            "90/90 [==============================] - 1s 8ms/step - loss: 0.4010 - accuracy: 0.8114 - val_loss: 0.4268 - val_accuracy: 0.7800\n",
            "Epoch 25/100\n",
            "90/90 [==============================] - 1s 7ms/step - loss: 0.4021 - accuracy: 0.8152 - val_loss: 0.4612 - val_accuracy: 0.7679\n",
            "Epoch 26/100\n",
            "90/90 [==============================] - 1s 8ms/step - loss: 0.3926 - accuracy: 0.8121 - val_loss: 0.4225 - val_accuracy: 0.7987\n",
            "Epoch 27/100\n",
            "90/90 [==============================] - 1s 6ms/step - loss: 0.3917 - accuracy: 0.8135 - val_loss: 0.4385 - val_accuracy: 0.7800\n",
            "Epoch 28/100\n",
            "90/90 [==============================] - 1s 6ms/step - loss: 0.4053 - accuracy: 0.8013 - val_loss: 0.4471 - val_accuracy: 0.7654\n",
            "Epoch 29/100\n",
            "90/90 [==============================] - 0s 5ms/step - loss: 0.4016 - accuracy: 0.8041 - val_loss: 0.4246 - val_accuracy: 0.7906\n",
            "Epoch 30/100\n",
            "90/90 [==============================] - 0s 5ms/step - loss: 0.3947 - accuracy: 0.8111 - val_loss: 0.4456 - val_accuracy: 0.7752\n",
            "Epoch 31/100\n",
            "90/90 [==============================] - 0s 5ms/step - loss: 0.4063 - accuracy: 0.7999 - val_loss: 0.4199 - val_accuracy: 0.7849\n",
            "Epoch 32/100\n",
            "90/90 [==============================] - 1s 6ms/step - loss: 0.3839 - accuracy: 0.8121 - val_loss: 0.4132 - val_accuracy: 0.7865\n",
            "Epoch 33/100\n",
            "90/90 [==============================] - 1s 6ms/step - loss: 0.3827 - accuracy: 0.8215 - val_loss: 0.4116 - val_accuracy: 0.7890\n",
            "Epoch 34/100\n",
            "90/90 [==============================] - 0s 5ms/step - loss: 0.3869 - accuracy: 0.8111 - val_loss: 0.4134 - val_accuracy: 0.7849\n",
            "Epoch 35/100\n",
            "90/90 [==============================] - 1s 6ms/step - loss: 0.3793 - accuracy: 0.8166 - val_loss: 0.4295 - val_accuracy: 0.7792\n",
            "Epoch 36/100\n",
            "90/90 [==============================] - 1s 6ms/step - loss: 0.3840 - accuracy: 0.8184 - val_loss: 0.4175 - val_accuracy: 0.7808\n",
            "Epoch 37/100\n",
            "90/90 [==============================] - 0s 5ms/step - loss: 0.3757 - accuracy: 0.8180 - val_loss: 0.4330 - val_accuracy: 0.7776\n",
            "Epoch 38/100\n",
            "90/90 [==============================] - 0s 5ms/step - loss: 0.3722 - accuracy: 0.8149 - val_loss: 0.5011 - val_accuracy: 0.7427\n",
            "Epoch 39/100\n",
            "90/90 [==============================] - 1s 6ms/step - loss: 0.3758 - accuracy: 0.8135 - val_loss: 0.4039 - val_accuracy: 0.7881\n",
            "Epoch 40/100\n",
            "90/90 [==============================] - 0s 5ms/step - loss: 0.3722 - accuracy: 0.8201 - val_loss: 0.4173 - val_accuracy: 0.7946\n",
            "Epoch 41/100\n",
            "90/90 [==============================] - 0s 5ms/step - loss: 0.3765 - accuracy: 0.8198 - val_loss: 0.4148 - val_accuracy: 0.7938\n",
            "Epoch 42/100\n",
            "90/90 [==============================] - 0s 5ms/step - loss: 0.3802 - accuracy: 0.8083 - val_loss: 0.4126 - val_accuracy: 0.7938\n",
            "Epoch 43/100\n",
            "90/90 [==============================] - 0s 6ms/step - loss: 0.3729 - accuracy: 0.8194 - val_loss: 0.4257 - val_accuracy: 0.7865\n",
            "Epoch 44/100\n",
            "90/90 [==============================] - 1s 6ms/step - loss: 0.3680 - accuracy: 0.8205 - val_loss: 0.3964 - val_accuracy: 0.7979\n",
            "Epoch 45/100\n",
            "90/90 [==============================] - 1s 6ms/step - loss: 0.3646 - accuracy: 0.8225 - val_loss: 0.4186 - val_accuracy: 0.7833\n",
            "Epoch 46/100\n",
            "90/90 [==============================] - 0s 5ms/step - loss: 0.3691 - accuracy: 0.8219 - val_loss: 0.4036 - val_accuracy: 0.8036\n",
            "Epoch 47/100\n",
            "90/90 [==============================] - 0s 5ms/step - loss: 0.3678 - accuracy: 0.8212 - val_loss: 0.4338 - val_accuracy: 0.7727\n",
            "Epoch 48/100\n",
            "90/90 [==============================] - 1s 7ms/step - loss: 0.3690 - accuracy: 0.8159 - val_loss: 0.4003 - val_accuracy: 0.7979\n",
            "Epoch 49/100\n",
            "90/90 [==============================] - 1s 7ms/step - loss: 0.3632 - accuracy: 0.8295 - val_loss: 0.4045 - val_accuracy: 0.7995\n",
            "Epoch 50/100\n",
            "90/90 [==============================] - 1s 7ms/step - loss: 0.3733 - accuracy: 0.8156 - val_loss: 0.4075 - val_accuracy: 0.7938\n",
            "Epoch 51/100\n",
            "90/90 [==============================] - 1s 8ms/step - loss: 0.3693 - accuracy: 0.8201 - val_loss: 0.4332 - val_accuracy: 0.7695\n",
            "Epoch 52/100\n",
            "90/90 [==============================] - 1s 7ms/step - loss: 0.3689 - accuracy: 0.8142 - val_loss: 0.4025 - val_accuracy: 0.7930\n",
            "Epoch 53/100\n",
            "90/90 [==============================] - 0s 5ms/step - loss: 0.3611 - accuracy: 0.8232 - val_loss: 0.4005 - val_accuracy: 0.8101\n",
            "Epoch 54/100\n",
            "90/90 [==============================] - 0s 5ms/step - loss: 0.3705 - accuracy: 0.8170 - val_loss: 0.3962 - val_accuracy: 0.8011\n",
            "Epoch 55/100\n",
            "90/90 [==============================] - 0s 5ms/step - loss: 0.3663 - accuracy: 0.8184 - val_loss: 0.4116 - val_accuracy: 0.7890\n",
            "Epoch 56/100\n",
            "90/90 [==============================] - 1s 6ms/step - loss: 0.3648 - accuracy: 0.8191 - val_loss: 0.4170 - val_accuracy: 0.7841\n",
            "Epoch 57/100\n",
            "90/90 [==============================] - 0s 5ms/step - loss: 0.3580 - accuracy: 0.8281 - val_loss: 0.3983 - val_accuracy: 0.8044\n",
            "Epoch 58/100\n",
            "90/90 [==============================] - 0s 5ms/step - loss: 0.3625 - accuracy: 0.8246 - val_loss: 0.4052 - val_accuracy: 0.8052\n",
            "Epoch 59/100\n",
            "90/90 [==============================] - 0s 5ms/step - loss: 0.3599 - accuracy: 0.8305 - val_loss: 0.4756 - val_accuracy: 0.7549\n",
            "Epoch 60/100\n",
            "90/90 [==============================] - 1s 6ms/step - loss: 0.3636 - accuracy: 0.8225 - val_loss: 0.3957 - val_accuracy: 0.8003\n",
            "Epoch 61/100\n",
            "90/90 [==============================] - 1s 6ms/step - loss: 0.3574 - accuracy: 0.8330 - val_loss: 0.4050 - val_accuracy: 0.7881\n",
            "Epoch 62/100\n",
            "90/90 [==============================] - 0s 5ms/step - loss: 0.3588 - accuracy: 0.8253 - val_loss: 0.4210 - val_accuracy: 0.7727\n",
            "Epoch 63/100\n",
            "90/90 [==============================] - 0s 5ms/step - loss: 0.3561 - accuracy: 0.8212 - val_loss: 0.3960 - val_accuracy: 0.8003\n",
            "Epoch 64/100\n",
            "90/90 [==============================] - 0s 5ms/step - loss: 0.3526 - accuracy: 0.8295 - val_loss: 0.3977 - val_accuracy: 0.8003\n",
            "Epoch 65/100\n",
            "90/90 [==============================] - 0s 5ms/step - loss: 0.3570 - accuracy: 0.8246 - val_loss: 0.3955 - val_accuracy: 0.8052\n",
            "Epoch 66/100\n",
            "90/90 [==============================] - 0s 5ms/step - loss: 0.3621 - accuracy: 0.8229 - val_loss: 0.3920 - val_accuracy: 0.8036\n",
            "Epoch 67/100\n",
            "90/90 [==============================] - 0s 5ms/step - loss: 0.3494 - accuracy: 0.8212 - val_loss: 0.4068 - val_accuracy: 0.7857\n",
            "Epoch 68/100\n",
            "90/90 [==============================] - 1s 6ms/step - loss: 0.3537 - accuracy: 0.8253 - val_loss: 0.4101 - val_accuracy: 0.8084\n",
            "Epoch 69/100\n",
            "90/90 [==============================] - 0s 5ms/step - loss: 0.3577 - accuracy: 0.8260 - val_loss: 0.4372 - val_accuracy: 0.7906\n",
            "Epoch 70/100\n",
            "90/90 [==============================] - 0s 5ms/step - loss: 0.3569 - accuracy: 0.8243 - val_loss: 0.4022 - val_accuracy: 0.7930\n",
            "Epoch 71/100\n",
            "90/90 [==============================] - 1s 6ms/step - loss: 0.3526 - accuracy: 0.8323 - val_loss: 0.4014 - val_accuracy: 0.7963\n",
            "Epoch 72/100\n",
            "90/90 [==============================] - 0s 5ms/step - loss: 0.3561 - accuracy: 0.8278 - val_loss: 0.4199 - val_accuracy: 0.7865\n",
            "Epoch 73/100\n",
            "90/90 [==============================] - 0s 5ms/step - loss: 0.3571 - accuracy: 0.8278 - val_loss: 0.3942 - val_accuracy: 0.8068\n",
            "Epoch 74/100\n",
            "90/90 [==============================] - 1s 7ms/step - loss: 0.3527 - accuracy: 0.8281 - val_loss: 0.4009 - val_accuracy: 0.8149\n",
            "Epoch 75/100\n",
            "90/90 [==============================] - 1s 7ms/step - loss: 0.3525 - accuracy: 0.8292 - val_loss: 0.3942 - val_accuracy: 0.8093\n",
            "Epoch 76/100\n",
            "90/90 [==============================] - 1s 8ms/step - loss: 0.3549 - accuracy: 0.8288 - val_loss: 0.3964 - val_accuracy: 0.7946\n",
            "Epoch 77/100\n",
            "90/90 [==============================] - 1s 8ms/step - loss: 0.3555 - accuracy: 0.8274 - val_loss: 0.3964 - val_accuracy: 0.8044\n",
            "Epoch 78/100\n",
            "90/90 [==============================] - 1s 8ms/step - loss: 0.3508 - accuracy: 0.8340 - val_loss: 0.3990 - val_accuracy: 0.7995\n",
            "Epoch 79/100\n",
            "90/90 [==============================] - 0s 5ms/step - loss: 0.3475 - accuracy: 0.8264 - val_loss: 0.3970 - val_accuracy: 0.8084\n",
            "Epoch 80/100\n",
            "90/90 [==============================] - 0s 5ms/step - loss: 0.3509 - accuracy: 0.8309 - val_loss: 0.3889 - val_accuracy: 0.8117\n",
            "Epoch 81/100\n",
            "90/90 [==============================] - 0s 5ms/step - loss: 0.3520 - accuracy: 0.8319 - val_loss: 0.4208 - val_accuracy: 0.7817\n",
            "Epoch 82/100\n",
            "90/90 [==============================] - 0s 5ms/step - loss: 0.3526 - accuracy: 0.8295 - val_loss: 0.4000 - val_accuracy: 0.8036\n",
            "Epoch 83/100\n",
            "90/90 [==============================] - 1s 6ms/step - loss: 0.3451 - accuracy: 0.8299 - val_loss: 0.4047 - val_accuracy: 0.8084\n",
            "Epoch 84/100\n",
            "90/90 [==============================] - 1s 6ms/step - loss: 0.3558 - accuracy: 0.8257 - val_loss: 0.3986 - val_accuracy: 0.7979\n",
            "Epoch 85/100\n",
            "90/90 [==============================] - 1s 6ms/step - loss: 0.3571 - accuracy: 0.8229 - val_loss: 0.3940 - val_accuracy: 0.8076\n",
            "Epoch 86/100\n",
            "90/90 [==============================] - 1s 6ms/step - loss: 0.3445 - accuracy: 0.8333 - val_loss: 0.3966 - val_accuracy: 0.8109\n",
            "Epoch 87/100\n",
            "90/90 [==============================] - 0s 5ms/step - loss: 0.3473 - accuracy: 0.8302 - val_loss: 0.3900 - val_accuracy: 0.8084\n",
            "Epoch 88/100\n",
            "90/90 [==============================] - 1s 6ms/step - loss: 0.3482 - accuracy: 0.8292 - val_loss: 0.3958 - val_accuracy: 0.8093\n",
            "Epoch 89/100\n",
            "90/90 [==============================] - 0s 5ms/step - loss: 0.3515 - accuracy: 0.8305 - val_loss: 0.3981 - val_accuracy: 0.8044\n",
            "Epoch 90/100\n",
            "90/90 [==============================] - 1s 6ms/step - loss: 0.3496 - accuracy: 0.8285 - val_loss: 0.3919 - val_accuracy: 0.8003\n",
            "Epoch 91/100\n",
            "90/90 [==============================] - 1s 6ms/step - loss: 0.3496 - accuracy: 0.8257 - val_loss: 0.4010 - val_accuracy: 0.8052\n",
            "Epoch 92/100\n",
            "90/90 [==============================] - 0s 5ms/step - loss: 0.3467 - accuracy: 0.8281 - val_loss: 0.3890 - val_accuracy: 0.8125\n",
            "Epoch 93/100\n",
            "90/90 [==============================] - 1s 6ms/step - loss: 0.3506 - accuracy: 0.8361 - val_loss: 0.4103 - val_accuracy: 0.7914\n",
            "Epoch 94/100\n",
            "90/90 [==============================] - 0s 5ms/step - loss: 0.3470 - accuracy: 0.8271 - val_loss: 0.3874 - val_accuracy: 0.8101\n",
            "Epoch 95/100\n",
            "90/90 [==============================] - 0s 5ms/step - loss: 0.3526 - accuracy: 0.8316 - val_loss: 0.3897 - val_accuracy: 0.8060\n",
            "Epoch 96/100\n",
            "90/90 [==============================] - 0s 5ms/step - loss: 0.3472 - accuracy: 0.8309 - val_loss: 0.4283 - val_accuracy: 0.7817\n",
            "Epoch 97/100\n",
            "90/90 [==============================] - 1s 6ms/step - loss: 0.3503 - accuracy: 0.8278 - val_loss: 0.3915 - val_accuracy: 0.8068\n",
            "Epoch 98/100\n",
            "90/90 [==============================] - 0s 5ms/step - loss: 0.3414 - accuracy: 0.8354 - val_loss: 0.3947 - val_accuracy: 0.7963\n",
            "Epoch 99/100\n",
            "90/90 [==============================] - 1s 7ms/step - loss: 0.3442 - accuracy: 0.8302 - val_loss: 0.3939 - val_accuracy: 0.8101\n",
            "Epoch 100/100\n",
            "90/90 [==============================] - 1s 8ms/step - loss: 0.3516 - accuracy: 0.8305 - val_loss: 0.3908 - val_accuracy: 0.8101\n"
          ]
        }
      ]
    },
    {
      "cell_type": "code",
      "source": [
        "import os\n",
        "import datetime\n",
        "modeldir=os.path.join(\"drive/MyDrive/diabetes/models\",datetime.datetime.now().strftime(\"%Y%m%d-%H%M%s\"))\n",
        "model_path=modeldir+\"-\"+\".h5\"\n",
        "model.save(model_path)\n"
      ],
      "metadata": {
        "colab": {
          "base_uri": "https://localhost:8080/"
        },
        "id": "E1XblDZibRhe",
        "outputId": "6c07fa13-8a96-4537-9f1c-ca9c605ce299"
      },
      "execution_count": null,
      "outputs": [
        {
          "output_type": "stream",
          "name": "stderr",
          "text": [
            "/usr/local/lib/python3.10/dist-packages/keras/src/engine/training.py:3103: UserWarning: You are saving your model as an HDF5 file via `model.save()`. This file format is considered legacy. We recommend using instead the native Keras format, e.g. `model.save('my_model.keras')`.\n",
            "  saving_api.save_model(\n"
          ]
        }
      ]
    },
    {
      "cell_type": "code",
      "source": [
        "def load_model(model_path):\n",
        "  model=tf.keras.models.load_model(model_path,custom_objects={\"KerasLayer\":hub.KerasLayer})\n",
        "  return model\n",
        "loaded_model=load_model(\"drive/MyDrive/diabetes/models/20240405-19521712346745-.h5\")"
      ],
      "metadata": {
        "id": "_xl-yZ6Bl5Qt"
      },
      "execution_count": null,
      "outputs": []
    },
    {
      "cell_type": "code",
      "source": [
        "test_data=p.read_csv(\"drive/MyDrive/diabetes/test.csv\",index_col=0)"
      ],
      "metadata": {
        "id": "371jSNZT_6di"
      },
      "execution_count": null,
      "outputs": []
    },
    {
      "cell_type": "code",
      "source": [
        "test_data.head()"
      ],
      "metadata": {
        "colab": {
          "base_uri": "https://localhost:8080/",
          "height": 206
        },
        "id": "v84lyWf2ALmk",
        "outputId": "a47685d0-9386-4141-c0d9-2c8de4f57778"
      },
      "execution_count": null,
      "outputs": [
        {
          "output_type": "execute_result",
          "data": {
            "text/plain": [
              "      Age Gender  BMI  Chol    TG       HDL       LDL         Cr   BUN  \\\n",
              "3151   33      M   26  4.70  1.96  1.410000  2.120000  71.000000  3.60   \n",
              "248    55      M   28  4.90  2.10  1.100000  2.500000  56.000000  5.40   \n",
              "2122   41      F   18  4.52  0.53  2.080000  2.400000  45.600000  3.77   \n",
              "5086   66      F   21  4.51  0.65  4.860753  4.860753   4.860753  4.87   \n",
              "3432   76      M   27  5.80  1.50  1.330000  3.270000  69.500000  5.90   \n",
              "\n",
              "      Diagnosis  \n",
              "3151          0  \n",
              "248           1  \n",
              "2122          0  \n",
              "5086          1  \n",
              "3432          0  "
            ],
            "text/html": [
              "\n",
              "  <div id=\"df-cdf85632-aae5-4eac-b46f-631f0f5cc712\" class=\"colab-df-container\">\n",
              "    <div>\n",
              "<style scoped>\n",
              "    .dataframe tbody tr th:only-of-type {\n",
              "        vertical-align: middle;\n",
              "    }\n",
              "\n",
              "    .dataframe tbody tr th {\n",
              "        vertical-align: top;\n",
              "    }\n",
              "\n",
              "    .dataframe thead th {\n",
              "        text-align: right;\n",
              "    }\n",
              "</style>\n",
              "<table border=\"1\" class=\"dataframe\">\n",
              "  <thead>\n",
              "    <tr style=\"text-align: right;\">\n",
              "      <th></th>\n",
              "      <th>Age</th>\n",
              "      <th>Gender</th>\n",
              "      <th>BMI</th>\n",
              "      <th>Chol</th>\n",
              "      <th>TG</th>\n",
              "      <th>HDL</th>\n",
              "      <th>LDL</th>\n",
              "      <th>Cr</th>\n",
              "      <th>BUN</th>\n",
              "      <th>Diagnosis</th>\n",
              "    </tr>\n",
              "  </thead>\n",
              "  <tbody>\n",
              "    <tr>\n",
              "      <th>3151</th>\n",
              "      <td>33</td>\n",
              "      <td>M</td>\n",
              "      <td>26</td>\n",
              "      <td>4.70</td>\n",
              "      <td>1.96</td>\n",
              "      <td>1.410000</td>\n",
              "      <td>2.120000</td>\n",
              "      <td>71.000000</td>\n",
              "      <td>3.60</td>\n",
              "      <td>0</td>\n",
              "    </tr>\n",
              "    <tr>\n",
              "      <th>248</th>\n",
              "      <td>55</td>\n",
              "      <td>M</td>\n",
              "      <td>28</td>\n",
              "      <td>4.90</td>\n",
              "      <td>2.10</td>\n",
              "      <td>1.100000</td>\n",
              "      <td>2.500000</td>\n",
              "      <td>56.000000</td>\n",
              "      <td>5.40</td>\n",
              "      <td>1</td>\n",
              "    </tr>\n",
              "    <tr>\n",
              "      <th>2122</th>\n",
              "      <td>41</td>\n",
              "      <td>F</td>\n",
              "      <td>18</td>\n",
              "      <td>4.52</td>\n",
              "      <td>0.53</td>\n",
              "      <td>2.080000</td>\n",
              "      <td>2.400000</td>\n",
              "      <td>45.600000</td>\n",
              "      <td>3.77</td>\n",
              "      <td>0</td>\n",
              "    </tr>\n",
              "    <tr>\n",
              "      <th>5086</th>\n",
              "      <td>66</td>\n",
              "      <td>F</td>\n",
              "      <td>21</td>\n",
              "      <td>4.51</td>\n",
              "      <td>0.65</td>\n",
              "      <td>4.860753</td>\n",
              "      <td>4.860753</td>\n",
              "      <td>4.860753</td>\n",
              "      <td>4.87</td>\n",
              "      <td>1</td>\n",
              "    </tr>\n",
              "    <tr>\n",
              "      <th>3432</th>\n",
              "      <td>76</td>\n",
              "      <td>M</td>\n",
              "      <td>27</td>\n",
              "      <td>5.80</td>\n",
              "      <td>1.50</td>\n",
              "      <td>1.330000</td>\n",
              "      <td>3.270000</td>\n",
              "      <td>69.500000</td>\n",
              "      <td>5.90</td>\n",
              "      <td>0</td>\n",
              "    </tr>\n",
              "  </tbody>\n",
              "</table>\n",
              "</div>\n",
              "    <div class=\"colab-df-buttons\">\n",
              "\n",
              "  <div class=\"colab-df-container\">\n",
              "    <button class=\"colab-df-convert\" onclick=\"convertToInteractive('df-cdf85632-aae5-4eac-b46f-631f0f5cc712')\"\n",
              "            title=\"Convert this dataframe to an interactive table.\"\n",
              "            style=\"display:none;\">\n",
              "\n",
              "  <svg xmlns=\"http://www.w3.org/2000/svg\" height=\"24px\" viewBox=\"0 -960 960 960\">\n",
              "    <path d=\"M120-120v-720h720v720H120Zm60-500h600v-160H180v160Zm220 220h160v-160H400v160Zm0 220h160v-160H400v160ZM180-400h160v-160H180v160Zm440 0h160v-160H620v160ZM180-180h160v-160H180v160Zm440 0h160v-160H620v160Z\"/>\n",
              "  </svg>\n",
              "    </button>\n",
              "\n",
              "  <style>\n",
              "    .colab-df-container {\n",
              "      display:flex;\n",
              "      gap: 12px;\n",
              "    }\n",
              "\n",
              "    .colab-df-convert {\n",
              "      background-color: #E8F0FE;\n",
              "      border: none;\n",
              "      border-radius: 50%;\n",
              "      cursor: pointer;\n",
              "      display: none;\n",
              "      fill: #1967D2;\n",
              "      height: 32px;\n",
              "      padding: 0 0 0 0;\n",
              "      width: 32px;\n",
              "    }\n",
              "\n",
              "    .colab-df-convert:hover {\n",
              "      background-color: #E2EBFA;\n",
              "      box-shadow: 0px 1px 2px rgba(60, 64, 67, 0.3), 0px 1px 3px 1px rgba(60, 64, 67, 0.15);\n",
              "      fill: #174EA6;\n",
              "    }\n",
              "\n",
              "    .colab-df-buttons div {\n",
              "      margin-bottom: 4px;\n",
              "    }\n",
              "\n",
              "    [theme=dark] .colab-df-convert {\n",
              "      background-color: #3B4455;\n",
              "      fill: #D2E3FC;\n",
              "    }\n",
              "\n",
              "    [theme=dark] .colab-df-convert:hover {\n",
              "      background-color: #434B5C;\n",
              "      box-shadow: 0px 1px 3px 1px rgba(0, 0, 0, 0.15);\n",
              "      filter: drop-shadow(0px 1px 2px rgba(0, 0, 0, 0.3));\n",
              "      fill: #FFFFFF;\n",
              "    }\n",
              "  </style>\n",
              "\n",
              "    <script>\n",
              "      const buttonEl =\n",
              "        document.querySelector('#df-cdf85632-aae5-4eac-b46f-631f0f5cc712 button.colab-df-convert');\n",
              "      buttonEl.style.display =\n",
              "        google.colab.kernel.accessAllowed ? 'block' : 'none';\n",
              "\n",
              "      async function convertToInteractive(key) {\n",
              "        const element = document.querySelector('#df-cdf85632-aae5-4eac-b46f-631f0f5cc712');\n",
              "        const dataTable =\n",
              "          await google.colab.kernel.invokeFunction('convertToInteractive',\n",
              "                                                    [key], {});\n",
              "        if (!dataTable) return;\n",
              "\n",
              "        const docLinkHtml = 'Like what you see? Visit the ' +\n",
              "          '<a target=\"_blank\" href=https://colab.research.google.com/notebooks/data_table.ipynb>data table notebook</a>'\n",
              "          + ' to learn more about interactive tables.';\n",
              "        element.innerHTML = '';\n",
              "        dataTable['output_type'] = 'display_data';\n",
              "        await google.colab.output.renderOutput(dataTable, element);\n",
              "        const docLink = document.createElement('div');\n",
              "        docLink.innerHTML = docLinkHtml;\n",
              "        element.appendChild(docLink);\n",
              "      }\n",
              "    </script>\n",
              "  </div>\n",
              "\n",
              "\n",
              "<div id=\"df-348aafa0-abbf-4afc-8d94-46b92b66d5c2\">\n",
              "  <button class=\"colab-df-quickchart\" onclick=\"quickchart('df-348aafa0-abbf-4afc-8d94-46b92b66d5c2')\"\n",
              "            title=\"Suggest charts\"\n",
              "            style=\"display:none;\">\n",
              "\n",
              "<svg xmlns=\"http://www.w3.org/2000/svg\" height=\"24px\"viewBox=\"0 0 24 24\"\n",
              "     width=\"24px\">\n",
              "    <g>\n",
              "        <path d=\"M19 3H5c-1.1 0-2 .9-2 2v14c0 1.1.9 2 2 2h14c1.1 0 2-.9 2-2V5c0-1.1-.9-2-2-2zM9 17H7v-7h2v7zm4 0h-2V7h2v10zm4 0h-2v-4h2v4z\"/>\n",
              "    </g>\n",
              "</svg>\n",
              "  </button>\n",
              "\n",
              "<style>\n",
              "  .colab-df-quickchart {\n",
              "      --bg-color: #E8F0FE;\n",
              "      --fill-color: #1967D2;\n",
              "      --hover-bg-color: #E2EBFA;\n",
              "      --hover-fill-color: #174EA6;\n",
              "      --disabled-fill-color: #AAA;\n",
              "      --disabled-bg-color: #DDD;\n",
              "  }\n",
              "\n",
              "  [theme=dark] .colab-df-quickchart {\n",
              "      --bg-color: #3B4455;\n",
              "      --fill-color: #D2E3FC;\n",
              "      --hover-bg-color: #434B5C;\n",
              "      --hover-fill-color: #FFFFFF;\n",
              "      --disabled-bg-color: #3B4455;\n",
              "      --disabled-fill-color: #666;\n",
              "  }\n",
              "\n",
              "  .colab-df-quickchart {\n",
              "    background-color: var(--bg-color);\n",
              "    border: none;\n",
              "    border-radius: 50%;\n",
              "    cursor: pointer;\n",
              "    display: none;\n",
              "    fill: var(--fill-color);\n",
              "    height: 32px;\n",
              "    padding: 0;\n",
              "    width: 32px;\n",
              "  }\n",
              "\n",
              "  .colab-df-quickchart:hover {\n",
              "    background-color: var(--hover-bg-color);\n",
              "    box-shadow: 0 1px 2px rgba(60, 64, 67, 0.3), 0 1px 3px 1px rgba(60, 64, 67, 0.15);\n",
              "    fill: var(--button-hover-fill-color);\n",
              "  }\n",
              "\n",
              "  .colab-df-quickchart-complete:disabled,\n",
              "  .colab-df-quickchart-complete:disabled:hover {\n",
              "    background-color: var(--disabled-bg-color);\n",
              "    fill: var(--disabled-fill-color);\n",
              "    box-shadow: none;\n",
              "  }\n",
              "\n",
              "  .colab-df-spinner {\n",
              "    border: 2px solid var(--fill-color);\n",
              "    border-color: transparent;\n",
              "    border-bottom-color: var(--fill-color);\n",
              "    animation:\n",
              "      spin 1s steps(1) infinite;\n",
              "  }\n",
              "\n",
              "  @keyframes spin {\n",
              "    0% {\n",
              "      border-color: transparent;\n",
              "      border-bottom-color: var(--fill-color);\n",
              "      border-left-color: var(--fill-color);\n",
              "    }\n",
              "    20% {\n",
              "      border-color: transparent;\n",
              "      border-left-color: var(--fill-color);\n",
              "      border-top-color: var(--fill-color);\n",
              "    }\n",
              "    30% {\n",
              "      border-color: transparent;\n",
              "      border-left-color: var(--fill-color);\n",
              "      border-top-color: var(--fill-color);\n",
              "      border-right-color: var(--fill-color);\n",
              "    }\n",
              "    40% {\n",
              "      border-color: transparent;\n",
              "      border-right-color: var(--fill-color);\n",
              "      border-top-color: var(--fill-color);\n",
              "    }\n",
              "    60% {\n",
              "      border-color: transparent;\n",
              "      border-right-color: var(--fill-color);\n",
              "    }\n",
              "    80% {\n",
              "      border-color: transparent;\n",
              "      border-right-color: var(--fill-color);\n",
              "      border-bottom-color: var(--fill-color);\n",
              "    }\n",
              "    90% {\n",
              "      border-color: transparent;\n",
              "      border-bottom-color: var(--fill-color);\n",
              "    }\n",
              "  }\n",
              "</style>\n",
              "\n",
              "  <script>\n",
              "    async function quickchart(key) {\n",
              "      const quickchartButtonEl =\n",
              "        document.querySelector('#' + key + ' button');\n",
              "      quickchartButtonEl.disabled = true;  // To prevent multiple clicks.\n",
              "      quickchartButtonEl.classList.add('colab-df-spinner');\n",
              "      try {\n",
              "        const charts = await google.colab.kernel.invokeFunction(\n",
              "            'suggestCharts', [key], {});\n",
              "      } catch (error) {\n",
              "        console.error('Error during call to suggestCharts:', error);\n",
              "      }\n",
              "      quickchartButtonEl.classList.remove('colab-df-spinner');\n",
              "      quickchartButtonEl.classList.add('colab-df-quickchart-complete');\n",
              "    }\n",
              "    (() => {\n",
              "      let quickchartButtonEl =\n",
              "        document.querySelector('#df-348aafa0-abbf-4afc-8d94-46b92b66d5c2 button');\n",
              "      quickchartButtonEl.style.display =\n",
              "        google.colab.kernel.accessAllowed ? 'block' : 'none';\n",
              "    })();\n",
              "  </script>\n",
              "</div>\n",
              "\n",
              "    </div>\n",
              "  </div>\n"
            ],
            "application/vnd.google.colaboratory.intrinsic+json": {
              "type": "dataframe",
              "variable_name": "test_data",
              "summary": "{\n  \"name\": \"test_data\",\n  \"rows\": 1026,\n  \"fields\": [\n    {\n      \"column\": \"Age\",\n      \"properties\": {\n        \"dtype\": \"number\",\n        \"std\": 14,\n        \"min\": 22,\n        \"max\": 91,\n        \"num_unique_values\": 68,\n        \"samples\": [\n          67,\n          54,\n          76\n        ],\n        \"semantic_type\": \"\",\n        \"description\": \"\"\n      }\n    },\n    {\n      \"column\": \"Gender\",\n      \"properties\": {\n        \"dtype\": \"category\",\n        \"num_unique_values\": 2,\n        \"samples\": [\n          \"F\",\n          \"M\"\n        ],\n        \"semantic_type\": \"\",\n        \"description\": \"\"\n      }\n    },\n    {\n      \"column\": \"BMI\",\n      \"properties\": {\n        \"dtype\": \"number\",\n        \"std\": 3,\n        \"min\": 16,\n        \"max\": 39,\n        \"num_unique_values\": 24,\n        \"samples\": [\n          19,\n          31\n        ],\n        \"semantic_type\": \"\",\n        \"description\": \"\"\n      }\n    },\n    {\n      \"column\": \"Chol\",\n      \"properties\": {\n        \"dtype\": \"number\",\n        \"std\": 1.0170530588623572,\n        \"min\": 0.5,\n        \"max\": 9.8,\n        \"num_unique_values\": 343,\n        \"samples\": [\n          3.69,\n          5.11\n        ],\n        \"semantic_type\": \"\",\n        \"description\": \"\"\n      }\n    },\n    {\n      \"column\": \"TG\",\n      \"properties\": {\n        \"dtype\": \"number\",\n        \"std\": 1.2399091994342417,\n        \"min\": 0.0,\n        \"max\": 9.69,\n        \"num_unique_values\": 312,\n        \"samples\": [\n          5.3,\n          0.72\n        ],\n        \"semantic_type\": \"\",\n        \"description\": \"\"\n      }\n    },\n    {\n      \"column\": \"HDL\",\n      \"properties\": {\n        \"dtype\": \"number\",\n        \"std\": 0.9645123607133027,\n        \"min\": 0.0,\n        \"max\": 4.860753,\n        \"num_unique_values\": 146,\n        \"samples\": [\n          1.25,\n          1.19\n        ],\n        \"semantic_type\": \"\",\n        \"description\": \"\"\n      }\n    },\n    {\n      \"column\": \"LDL\",\n      \"properties\": {\n        \"dtype\": \"number\",\n        \"std\": 0.9543713722155103,\n        \"min\": 0.5,\n        \"max\": 9.9,\n        \"num_unique_values\": 298,\n        \"samples\": [\n          3.84,\n          1.98\n        ],\n        \"semantic_type\": \"\",\n        \"description\": \"\"\n      }\n    },\n    {\n      \"column\": \"Cr\",\n      \"properties\": {\n        \"dtype\": \"number\",\n        \"std\": 27.404168814339208,\n        \"min\": 4.860753,\n        \"max\": 401.0,\n        \"num_unique_values\": 436,\n        \"samples\": [\n          56.3,\n          72.7\n        ],\n        \"semantic_type\": \"\",\n        \"description\": \"\"\n      }\n    },\n    {\n      \"column\": \"BUN\",\n      \"properties\": {\n        \"dtype\": \"number\",\n        \"std\": 1.7445859533348842,\n        \"min\": 1.38,\n        \"max\": 24.0,\n        \"num_unique_values\": 383,\n        \"samples\": [\n          5.22,\n          4.56\n        ],\n        \"semantic_type\": \"\",\n        \"description\": \"\"\n      }\n    },\n    {\n      \"column\": \"Diagnosis\",\n      \"properties\": {\n        \"dtype\": \"number\",\n        \"std\": 0,\n        \"min\": 0,\n        \"max\": 1,\n        \"num_unique_values\": 2,\n        \"samples\": [\n          1,\n          0\n        ],\n        \"semantic_type\": \"\",\n        \"description\": \"\"\n      }\n    }\n  ]\n}"
            }
          },
          "metadata": {},
          "execution_count": 69
        }
      ]
    },
    {
      "cell_type": "code",
      "source": [
        "data=test_data.drop(\"Diagnosis\",axis=1)\n",
        "actual_diag=test_data[\"Diagnosis\"]"
      ],
      "metadata": {
        "id": "XdkOALoQANQ9"
      },
      "execution_count": null,
      "outputs": []
    },
    {
      "cell_type": "code",
      "source": [
        "data=converting_gender(data)\n",
        "data.head()"
      ],
      "metadata": {
        "colab": {
          "base_uri": "https://localhost:8080/",
          "height": 206
        },
        "id": "MHP1hzaWAnU4",
        "outputId": "043f17f8-89c2-492f-bb45-e9bbe5d9e1ae"
      },
      "execution_count": null,
      "outputs": [
        {
          "output_type": "execute_result",
          "data": {
            "text/plain": [
              "      Age Gender  BMI  Chol    TG       HDL       LDL         Cr   BUN\n",
              "3151   33      1   26  4.70  1.96  1.410000  2.120000  71.000000  3.60\n",
              "248    55      1   28  4.90  2.10  1.100000  2.500000  56.000000  5.40\n",
              "2122   41      0   18  4.52  0.53  2.080000  2.400000  45.600000  3.77\n",
              "5086   66      0   21  4.51  0.65  4.860753  4.860753   4.860753  4.87\n",
              "3432   76      1   27  5.80  1.50  1.330000  3.270000  69.500000  5.90"
            ],
            "text/html": [
              "\n",
              "  <div id=\"df-e9ff20bc-7e1c-47bf-b9e6-b64345a27e05\" class=\"colab-df-container\">\n",
              "    <div>\n",
              "<style scoped>\n",
              "    .dataframe tbody tr th:only-of-type {\n",
              "        vertical-align: middle;\n",
              "    }\n",
              "\n",
              "    .dataframe tbody tr th {\n",
              "        vertical-align: top;\n",
              "    }\n",
              "\n",
              "    .dataframe thead th {\n",
              "        text-align: right;\n",
              "    }\n",
              "</style>\n",
              "<table border=\"1\" class=\"dataframe\">\n",
              "  <thead>\n",
              "    <tr style=\"text-align: right;\">\n",
              "      <th></th>\n",
              "      <th>Age</th>\n",
              "      <th>Gender</th>\n",
              "      <th>BMI</th>\n",
              "      <th>Chol</th>\n",
              "      <th>TG</th>\n",
              "      <th>HDL</th>\n",
              "      <th>LDL</th>\n",
              "      <th>Cr</th>\n",
              "      <th>BUN</th>\n",
              "    </tr>\n",
              "  </thead>\n",
              "  <tbody>\n",
              "    <tr>\n",
              "      <th>3151</th>\n",
              "      <td>33</td>\n",
              "      <td>1</td>\n",
              "      <td>26</td>\n",
              "      <td>4.70</td>\n",
              "      <td>1.96</td>\n",
              "      <td>1.410000</td>\n",
              "      <td>2.120000</td>\n",
              "      <td>71.000000</td>\n",
              "      <td>3.60</td>\n",
              "    </tr>\n",
              "    <tr>\n",
              "      <th>248</th>\n",
              "      <td>55</td>\n",
              "      <td>1</td>\n",
              "      <td>28</td>\n",
              "      <td>4.90</td>\n",
              "      <td>2.10</td>\n",
              "      <td>1.100000</td>\n",
              "      <td>2.500000</td>\n",
              "      <td>56.000000</td>\n",
              "      <td>5.40</td>\n",
              "    </tr>\n",
              "    <tr>\n",
              "      <th>2122</th>\n",
              "      <td>41</td>\n",
              "      <td>0</td>\n",
              "      <td>18</td>\n",
              "      <td>4.52</td>\n",
              "      <td>0.53</td>\n",
              "      <td>2.080000</td>\n",
              "      <td>2.400000</td>\n",
              "      <td>45.600000</td>\n",
              "      <td>3.77</td>\n",
              "    </tr>\n",
              "    <tr>\n",
              "      <th>5086</th>\n",
              "      <td>66</td>\n",
              "      <td>0</td>\n",
              "      <td>21</td>\n",
              "      <td>4.51</td>\n",
              "      <td>0.65</td>\n",
              "      <td>4.860753</td>\n",
              "      <td>4.860753</td>\n",
              "      <td>4.860753</td>\n",
              "      <td>4.87</td>\n",
              "    </tr>\n",
              "    <tr>\n",
              "      <th>3432</th>\n",
              "      <td>76</td>\n",
              "      <td>1</td>\n",
              "      <td>27</td>\n",
              "      <td>5.80</td>\n",
              "      <td>1.50</td>\n",
              "      <td>1.330000</td>\n",
              "      <td>3.270000</td>\n",
              "      <td>69.500000</td>\n",
              "      <td>5.90</td>\n",
              "    </tr>\n",
              "  </tbody>\n",
              "</table>\n",
              "</div>\n",
              "    <div class=\"colab-df-buttons\">\n",
              "\n",
              "  <div class=\"colab-df-container\">\n",
              "    <button class=\"colab-df-convert\" onclick=\"convertToInteractive('df-e9ff20bc-7e1c-47bf-b9e6-b64345a27e05')\"\n",
              "            title=\"Convert this dataframe to an interactive table.\"\n",
              "            style=\"display:none;\">\n",
              "\n",
              "  <svg xmlns=\"http://www.w3.org/2000/svg\" height=\"24px\" viewBox=\"0 -960 960 960\">\n",
              "    <path d=\"M120-120v-720h720v720H120Zm60-500h600v-160H180v160Zm220 220h160v-160H400v160Zm0 220h160v-160H400v160ZM180-400h160v-160H180v160Zm440 0h160v-160H620v160ZM180-180h160v-160H180v160Zm440 0h160v-160H620v160Z\"/>\n",
              "  </svg>\n",
              "    </button>\n",
              "\n",
              "  <style>\n",
              "    .colab-df-container {\n",
              "      display:flex;\n",
              "      gap: 12px;\n",
              "    }\n",
              "\n",
              "    .colab-df-convert {\n",
              "      background-color: #E8F0FE;\n",
              "      border: none;\n",
              "      border-radius: 50%;\n",
              "      cursor: pointer;\n",
              "      display: none;\n",
              "      fill: #1967D2;\n",
              "      height: 32px;\n",
              "      padding: 0 0 0 0;\n",
              "      width: 32px;\n",
              "    }\n",
              "\n",
              "    .colab-df-convert:hover {\n",
              "      background-color: #E2EBFA;\n",
              "      box-shadow: 0px 1px 2px rgba(60, 64, 67, 0.3), 0px 1px 3px 1px rgba(60, 64, 67, 0.15);\n",
              "      fill: #174EA6;\n",
              "    }\n",
              "\n",
              "    .colab-df-buttons div {\n",
              "      margin-bottom: 4px;\n",
              "    }\n",
              "\n",
              "    [theme=dark] .colab-df-convert {\n",
              "      background-color: #3B4455;\n",
              "      fill: #D2E3FC;\n",
              "    }\n",
              "\n",
              "    [theme=dark] .colab-df-convert:hover {\n",
              "      background-color: #434B5C;\n",
              "      box-shadow: 0px 1px 3px 1px rgba(0, 0, 0, 0.15);\n",
              "      filter: drop-shadow(0px 1px 2px rgba(0, 0, 0, 0.3));\n",
              "      fill: #FFFFFF;\n",
              "    }\n",
              "  </style>\n",
              "\n",
              "    <script>\n",
              "      const buttonEl =\n",
              "        document.querySelector('#df-e9ff20bc-7e1c-47bf-b9e6-b64345a27e05 button.colab-df-convert');\n",
              "      buttonEl.style.display =\n",
              "        google.colab.kernel.accessAllowed ? 'block' : 'none';\n",
              "\n",
              "      async function convertToInteractive(key) {\n",
              "        const element = document.querySelector('#df-e9ff20bc-7e1c-47bf-b9e6-b64345a27e05');\n",
              "        const dataTable =\n",
              "          await google.colab.kernel.invokeFunction('convertToInteractive',\n",
              "                                                    [key], {});\n",
              "        if (!dataTable) return;\n",
              "\n",
              "        const docLinkHtml = 'Like what you see? Visit the ' +\n",
              "          '<a target=\"_blank\" href=https://colab.research.google.com/notebooks/data_table.ipynb>data table notebook</a>'\n",
              "          + ' to learn more about interactive tables.';\n",
              "        element.innerHTML = '';\n",
              "        dataTable['output_type'] = 'display_data';\n",
              "        await google.colab.output.renderOutput(dataTable, element);\n",
              "        const docLink = document.createElement('div');\n",
              "        docLink.innerHTML = docLinkHtml;\n",
              "        element.appendChild(docLink);\n",
              "      }\n",
              "    </script>\n",
              "  </div>\n",
              "\n",
              "\n",
              "<div id=\"df-d1161bfc-efa0-4886-b471-bd2795fbed29\">\n",
              "  <button class=\"colab-df-quickchart\" onclick=\"quickchart('df-d1161bfc-efa0-4886-b471-bd2795fbed29')\"\n",
              "            title=\"Suggest charts\"\n",
              "            style=\"display:none;\">\n",
              "\n",
              "<svg xmlns=\"http://www.w3.org/2000/svg\" height=\"24px\"viewBox=\"0 0 24 24\"\n",
              "     width=\"24px\">\n",
              "    <g>\n",
              "        <path d=\"M19 3H5c-1.1 0-2 .9-2 2v14c0 1.1.9 2 2 2h14c1.1 0 2-.9 2-2V5c0-1.1-.9-2-2-2zM9 17H7v-7h2v7zm4 0h-2V7h2v10zm4 0h-2v-4h2v4z\"/>\n",
              "    </g>\n",
              "</svg>\n",
              "  </button>\n",
              "\n",
              "<style>\n",
              "  .colab-df-quickchart {\n",
              "      --bg-color: #E8F0FE;\n",
              "      --fill-color: #1967D2;\n",
              "      --hover-bg-color: #E2EBFA;\n",
              "      --hover-fill-color: #174EA6;\n",
              "      --disabled-fill-color: #AAA;\n",
              "      --disabled-bg-color: #DDD;\n",
              "  }\n",
              "\n",
              "  [theme=dark] .colab-df-quickchart {\n",
              "      --bg-color: #3B4455;\n",
              "      --fill-color: #D2E3FC;\n",
              "      --hover-bg-color: #434B5C;\n",
              "      --hover-fill-color: #FFFFFF;\n",
              "      --disabled-bg-color: #3B4455;\n",
              "      --disabled-fill-color: #666;\n",
              "  }\n",
              "\n",
              "  .colab-df-quickchart {\n",
              "    background-color: var(--bg-color);\n",
              "    border: none;\n",
              "    border-radius: 50%;\n",
              "    cursor: pointer;\n",
              "    display: none;\n",
              "    fill: var(--fill-color);\n",
              "    height: 32px;\n",
              "    padding: 0;\n",
              "    width: 32px;\n",
              "  }\n",
              "\n",
              "  .colab-df-quickchart:hover {\n",
              "    background-color: var(--hover-bg-color);\n",
              "    box-shadow: 0 1px 2px rgba(60, 64, 67, 0.3), 0 1px 3px 1px rgba(60, 64, 67, 0.15);\n",
              "    fill: var(--button-hover-fill-color);\n",
              "  }\n",
              "\n",
              "  .colab-df-quickchart-complete:disabled,\n",
              "  .colab-df-quickchart-complete:disabled:hover {\n",
              "    background-color: var(--disabled-bg-color);\n",
              "    fill: var(--disabled-fill-color);\n",
              "    box-shadow: none;\n",
              "  }\n",
              "\n",
              "  .colab-df-spinner {\n",
              "    border: 2px solid var(--fill-color);\n",
              "    border-color: transparent;\n",
              "    border-bottom-color: var(--fill-color);\n",
              "    animation:\n",
              "      spin 1s steps(1) infinite;\n",
              "  }\n",
              "\n",
              "  @keyframes spin {\n",
              "    0% {\n",
              "      border-color: transparent;\n",
              "      border-bottom-color: var(--fill-color);\n",
              "      border-left-color: var(--fill-color);\n",
              "    }\n",
              "    20% {\n",
              "      border-color: transparent;\n",
              "      border-left-color: var(--fill-color);\n",
              "      border-top-color: var(--fill-color);\n",
              "    }\n",
              "    30% {\n",
              "      border-color: transparent;\n",
              "      border-left-color: var(--fill-color);\n",
              "      border-top-color: var(--fill-color);\n",
              "      border-right-color: var(--fill-color);\n",
              "    }\n",
              "    40% {\n",
              "      border-color: transparent;\n",
              "      border-right-color: var(--fill-color);\n",
              "      border-top-color: var(--fill-color);\n",
              "    }\n",
              "    60% {\n",
              "      border-color: transparent;\n",
              "      border-right-color: var(--fill-color);\n",
              "    }\n",
              "    80% {\n",
              "      border-color: transparent;\n",
              "      border-right-color: var(--fill-color);\n",
              "      border-bottom-color: var(--fill-color);\n",
              "    }\n",
              "    90% {\n",
              "      border-color: transparent;\n",
              "      border-bottom-color: var(--fill-color);\n",
              "    }\n",
              "  }\n",
              "</style>\n",
              "\n",
              "  <script>\n",
              "    async function quickchart(key) {\n",
              "      const quickchartButtonEl =\n",
              "        document.querySelector('#' + key + ' button');\n",
              "      quickchartButtonEl.disabled = true;  // To prevent multiple clicks.\n",
              "      quickchartButtonEl.classList.add('colab-df-spinner');\n",
              "      try {\n",
              "        const charts = await google.colab.kernel.invokeFunction(\n",
              "            'suggestCharts', [key], {});\n",
              "      } catch (error) {\n",
              "        console.error('Error during call to suggestCharts:', error);\n",
              "      }\n",
              "      quickchartButtonEl.classList.remove('colab-df-spinner');\n",
              "      quickchartButtonEl.classList.add('colab-df-quickchart-complete');\n",
              "    }\n",
              "    (() => {\n",
              "      let quickchartButtonEl =\n",
              "        document.querySelector('#df-d1161bfc-efa0-4886-b471-bd2795fbed29 button');\n",
              "      quickchartButtonEl.style.display =\n",
              "        google.colab.kernel.accessAllowed ? 'block' : 'none';\n",
              "    })();\n",
              "  </script>\n",
              "</div>\n",
              "\n",
              "    </div>\n",
              "  </div>\n"
            ],
            "application/vnd.google.colaboratory.intrinsic+json": {
              "type": "dataframe",
              "variable_name": "data",
              "summary": "{\n  \"name\": \"data\",\n  \"rows\": 1026,\n  \"fields\": [\n    {\n      \"column\": \"Age\",\n      \"properties\": {\n        \"dtype\": \"number\",\n        \"std\": 14,\n        \"min\": 22,\n        \"max\": 91,\n        \"num_unique_values\": 68,\n        \"samples\": [\n          67,\n          54,\n          76\n        ],\n        \"semantic_type\": \"\",\n        \"description\": \"\"\n      }\n    },\n    {\n      \"column\": \"Gender\",\n      \"properties\": {\n        \"dtype\": \"date\",\n        \"min\": 0,\n        \"max\": 1,\n        \"num_unique_values\": 2,\n        \"samples\": [\n          0,\n          1\n        ],\n        \"semantic_type\": \"\",\n        \"description\": \"\"\n      }\n    },\n    {\n      \"column\": \"BMI\",\n      \"properties\": {\n        \"dtype\": \"number\",\n        \"std\": 3,\n        \"min\": 16,\n        \"max\": 39,\n        \"num_unique_values\": 24,\n        \"samples\": [\n          19,\n          31\n        ],\n        \"semantic_type\": \"\",\n        \"description\": \"\"\n      }\n    },\n    {\n      \"column\": \"Chol\",\n      \"properties\": {\n        \"dtype\": \"number\",\n        \"std\": 1.0170530588623572,\n        \"min\": 0.5,\n        \"max\": 9.8,\n        \"num_unique_values\": 343,\n        \"samples\": [\n          3.69,\n          5.11\n        ],\n        \"semantic_type\": \"\",\n        \"description\": \"\"\n      }\n    },\n    {\n      \"column\": \"TG\",\n      \"properties\": {\n        \"dtype\": \"number\",\n        \"std\": 1.2399091994342417,\n        \"min\": 0.0,\n        \"max\": 9.69,\n        \"num_unique_values\": 312,\n        \"samples\": [\n          5.3,\n          0.72\n        ],\n        \"semantic_type\": \"\",\n        \"description\": \"\"\n      }\n    },\n    {\n      \"column\": \"HDL\",\n      \"properties\": {\n        \"dtype\": \"number\",\n        \"std\": 0.9645123607133027,\n        \"min\": 0.0,\n        \"max\": 4.860753,\n        \"num_unique_values\": 146,\n        \"samples\": [\n          1.25,\n          1.19\n        ],\n        \"semantic_type\": \"\",\n        \"description\": \"\"\n      }\n    },\n    {\n      \"column\": \"LDL\",\n      \"properties\": {\n        \"dtype\": \"number\",\n        \"std\": 0.9543713722155103,\n        \"min\": 0.5,\n        \"max\": 9.9,\n        \"num_unique_values\": 298,\n        \"samples\": [\n          3.84,\n          1.98\n        ],\n        \"semantic_type\": \"\",\n        \"description\": \"\"\n      }\n    },\n    {\n      \"column\": \"Cr\",\n      \"properties\": {\n        \"dtype\": \"number\",\n        \"std\": 27.404168814339208,\n        \"min\": 4.860753,\n        \"max\": 401.0,\n        \"num_unique_values\": 436,\n        \"samples\": [\n          56.3,\n          72.7\n        ],\n        \"semantic_type\": \"\",\n        \"description\": \"\"\n      }\n    },\n    {\n      \"column\": \"BUN\",\n      \"properties\": {\n        \"dtype\": \"number\",\n        \"std\": 1.7445859533348842,\n        \"min\": 1.38,\n        \"max\": 24.0,\n        \"num_unique_values\": 383,\n        \"samples\": [\n          5.22,\n          4.56\n        ],\n        \"semantic_type\": \"\",\n        \"description\": \"\"\n      }\n    }\n  ]\n}"
            }
          },
          "metadata": {},
          "execution_count": 71
        }
      ]
    },
    {
      "cell_type": "code",
      "source": [
        "x=tf.convert_to_tensor(data.astype(np.float32))"
      ],
      "metadata": {
        "id": "SS4eofIaA0HL"
      },
      "execution_count": null,
      "outputs": []
    },
    {
      "cell_type": "code",
      "source": [
        "test_predictions=loaded_model.predict(x,verbose=1)\n",
        "binary_predictions=(test_predictions>=0.5).astype(int)\n",
        "binary_predictions"
      ],
      "metadata": {
        "colab": {
          "base_uri": "https://localhost:8080/"
        },
        "id": "e80PMQv3BZ_7",
        "outputId": "699e2d6a-f3dc-4155-ddb7-ef5a1457cf3e"
      },
      "execution_count": null,
      "outputs": [
        {
          "output_type": "stream",
          "name": "stdout",
          "text": [
            "33/33 [==============================] - 0s 2ms/step\n"
          ]
        },
        {
          "output_type": "execute_result",
          "data": {
            "text/plain": [
              "array([[0],\n",
              "       [1],\n",
              "       [0],\n",
              "       ...,\n",
              "       [0],\n",
              "       [1],\n",
              "       [0]])"
            ]
          },
          "metadata": {},
          "execution_count": 95
        }
      ]
    },
    {
      "cell_type": "code",
      "source": [
        "from sklearn.metrics import accuracy_score\n",
        "actual_diag=np.array(actual_diag)\n",
        "test_predictions = np.array(test_predictions)\n"
      ],
      "metadata": {
        "id": "dF4WK36ICFhv"
      },
      "execution_count": null,
      "outputs": []
    },
    {
      "cell_type": "code",
      "source": [
        "actual_diag.size"
      ],
      "metadata": {
        "colab": {
          "base_uri": "https://localhost:8080/"
        },
        "id": "0kxueBcUDwLI",
        "outputId": "9b885098-8f2e-444f-cc98-e39c91fc18cb"
      },
      "execution_count": null,
      "outputs": [
        {
          "output_type": "execute_result",
          "data": {
            "text/plain": [
              "1026"
            ]
          },
          "metadata": {},
          "execution_count": 75
        }
      ]
    },
    {
      "cell_type": "code",
      "source": [
        "scores=loaded_model.evaluate(x,actual_diag)\n",
        "scores"
      ],
      "metadata": {
        "colab": {
          "base_uri": "https://localhost:8080/"
        },
        "id": "Mfoh63yMBocg",
        "outputId": "b88c70a1-7bd2-4b9b-a1f5-6383eec8f84d"
      },
      "execution_count": null,
      "outputs": [
        {
          "output_type": "stream",
          "name": "stdout",
          "text": [
            "33/33 [==============================] - 0s 3ms/step - loss: 0.3635 - accuracy: 0.8255\n"
          ]
        },
        {
          "output_type": "execute_result",
          "data": {
            "text/plain": [
              "[0.3634575307369232, 0.8255360722541809]"
            ]
          },
          "metadata": {},
          "execution_count": 97
        }
      ]
    },
    {
      "cell_type": "code",
      "source": [
        "accuracy=accuracy_score(actual_diag,binary_predictions)"
      ],
      "metadata": {
        "id": "l0K1NuKgETAI"
      },
      "execution_count": null,
      "outputs": []
    },
    {
      "cell_type": "code",
      "source": [
        "accuracy"
      ],
      "metadata": {
        "colab": {
          "base_uri": "https://localhost:8080/"
        },
        "id": "GuaVt68mNBZK",
        "outputId": "9ddadaf1-27d0-42ff-b130-23accf867d77"
      },
      "execution_count": null,
      "outputs": [
        {
          "output_type": "execute_result",
          "data": {
            "text/plain": [
              "0.8255360623781677"
            ]
          },
          "metadata": {},
          "execution_count": 99
        }
      ]
    },
    {
      "cell_type": "code",
      "source": [],
      "metadata": {
        "id": "So4rjqzpOsvo"
      },
      "execution_count": null,
      "outputs": []
    }
  ]
}